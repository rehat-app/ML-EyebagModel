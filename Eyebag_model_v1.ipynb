{
  "nbformat": 4,
  "nbformat_minor": 0,
  "metadata": {
    "colab": {
      "name": "Copy of Untitled1.ipynb",
      "provenance": []
    },
    "kernelspec": {
      "name": "python3",
      "display_name": "Python 3"
    },
    "language_info": {
      "name": "python"
    }
  },
  "cells": [
    {
      "cell_type": "code",
      "execution_count": null,
      "metadata": {
        "id": "lRDhOwgqq4TR",
        "colab": {
          "base_uri": "https://localhost:8080/"
        },
        "outputId": "bb0f0b75-cf21-4583-e43d-574cdfae5d05"
      },
      "outputs": [
        {
          "output_type": "stream",
          "name": "stdout",
          "text": [
            "Looking in indexes: https://pypi.org/simple, https://us-python.pkg.dev/colab-wheels/public/simple/\n",
            "Requirement already satisfied: tensorflow_hub in /usr/local/lib/python3.7/dist-packages (0.12.0)\n",
            "Requirement already satisfied: protobuf>=3.8.0 in /usr/local/lib/python3.7/dist-packages (from tensorflow_hub) (3.17.3)\n",
            "Requirement already satisfied: numpy>=1.12.0 in /usr/local/lib/python3.7/dist-packages (from tensorflow_hub) (1.21.6)\n",
            "Requirement already satisfied: six>=1.9 in /usr/local/lib/python3.7/dist-packages (from protobuf>=3.8.0->tensorflow_hub) (1.15.0)\n"
          ]
        }
      ],
      "source": [
        "!pip install tensorflow_hub"
      ]
    },
    {
      "cell_type": "code",
      "source": [
        "import numpy as np\n",
        "import cv2\n",
        "\n",
        "import PIL.Image as Image\n",
        "import os\n",
        "\n",
        "import matplotlib.pylab as plt\n",
        "\n",
        "import tensorflow as tf\n",
        "import tensorflow_hub as hub\n",
        "\n",
        "from tensorflow import keras\n",
        "from tensorflow.keras import layers\n",
        "from tensorflow.keras.models import Model\n",
        "from tensorflow.keras.layers import Dense\n",
        "from tensorflow.keras.models import Sequential\n",
        "from tensorflow.keras.preprocessing.image import ImageDataGenerator\n",
        "from tensorflow.keras.preprocessing.image import img_to_array, load_img\n",
        "from shutil import copyfile"
      ],
      "metadata": {
        "id": "iuqPe2ixrBfu"
      },
      "execution_count": null,
      "outputs": []
    },
    {
      "cell_type": "code",
      "source": [
        "from google.colab import drive\n",
        "\n",
        "drive.mount('/content/gdrive')"
      ],
      "metadata": {
        "colab": {
          "base_uri": "https://localhost:8080/"
        },
        "id": "v0dcGe2zrDpA",
        "outputId": "e1232b17-b24c-4c74-ac10-ffaf27852ca0"
      },
      "execution_count": null,
      "outputs": [
        {
          "output_type": "stream",
          "name": "stdout",
          "text": [
            "Mounted at /content/gdrive\n"
          ]
        }
      ]
    },
    {
      "cell_type": "code",
      "source": [
        "IMAGE_SHAPE = (224, 224)\n",
        "\n",
        "classifier = tf.keras.Sequential([\n",
        "    hub.KerasLayer(\"https://tfhub.dev/google/tf2-preview/mobilenet_v2/classification/4\", input_shape=IMAGE_SHAPE+(3,))\n",
        "])"
      ],
      "metadata": {
        "id": "4vP3gklLrHGt"
      },
      "execution_count": null,
      "outputs": []
    },
    {
      "cell_type": "code",
      "source": [
        "# Assign training and validation set directories\n",
        "base_dir = '/content/gdrive/MyDrive/CAPSTONE II/'\n",
        "train_dir = os.path.join(base_dir, 'train')\n",
        "testing_dir = os.path.join(base_dir, 'test')\n",
        "\n",
        "# Directory with training cat pictures\n",
        "train_BigEyebag_dir = os.path.join(train_dir, 'BigEyebag')\n",
        "train_NoEyebag_dir = os.path.join(train_dir, 'NoEyebag')\n",
        "train_NormalEyebag_dir = os.path.join(train_dir, 'NormalEyebag')\n",
        "\n",
        "# Directory with training dog pictures\n",
        "testing_BigEyebag_dir = os.path.join(testing_dir, 'BigEyebag')\n",
        "testing_NoEyebag_dir = os.path.join(testing_dir, 'NoEyebag')\n",
        "testing_NormalEyebag_dir = os.path.join(testing_dir, 'NormalEyebag')"
      ],
      "metadata": {
        "id": "DNGGQ3ZQrKnG"
      },
      "execution_count": null,
      "outputs": []
    },
    {
      "cell_type": "code",
      "source": [
        "IMAGE_SIZE = 224\n",
        "BATCH_SIZE = 64\n",
        "def train_val_generators(TRAINING_DIR, VALIDATION_DIR):\n",
        "\n",
        "  train_datagen = ImageDataGenerator(rescale=1/255,\n",
        "                                     rotation_range=40,\n",
        "                                     width_shift_range=0.2,\n",
        "                                     height_shift_range=0.2,\n",
        "                                     shear_range=0.2,\n",
        "                                     zoom_range=0.2,\n",
        "                                     horizontal_flip=True,\n",
        "                                     fill_mode='nearest')\n",
        "\n",
        "\n",
        "  train_generator = train_datagen.flow_from_directory(\n",
        "    TRAINING_DIR,\n",
        "    target_size=(IMAGE_SIZE, IMAGE_SIZE),\n",
        "    batch_size=BATCH_SIZE, \n",
        "    subset='training')\n",
        "\n",
        "  validation_datagen = ImageDataGenerator(rescale=1/255)\n",
        "\n",
        "\n",
        "  validation_generator = validation_datagen.flow_from_directory(directory=VALIDATION_DIR,\n",
        "    target_size=(IMAGE_SIZE, IMAGE_SIZE),\n",
        "    batch_size=BATCH_SIZE)\n",
        "  return train_generator, validation_generator\n",
        "\n",
        "# Test your generators\n",
        "train_generator, validation_generator = train_val_generators(train_dir, testing_dir)"
      ],
      "metadata": {
        "colab": {
          "base_uri": "https://localhost:8080/"
        },
        "id": "4QoxLadNrRBu",
        "outputId": "a73eadd6-3d30-4fd5-d670-04ee11d05643"
      },
      "execution_count": null,
      "outputs": [
        {
          "output_type": "stream",
          "name": "stdout",
          "text": [
            "Found 822 images belonging to 3 classes.\n",
            "Found 198 images belonging to 3 classes.\n"
          ]
        }
      ]
    },
    {
      "cell_type": "code",
      "source": [
        "image_batch, label_batch = next(validation_generator)\n",
        "image_batch.shape, label_batch.shape"
      ],
      "metadata": {
        "colab": {
          "base_uri": "https://localhost:8080/"
        },
        "id": "MLtfNe-NwmzO",
        "outputId": "df406a9d-464a-4928-95cf-2f526bc3d1ea"
      },
      "execution_count": null,
      "outputs": [
        {
          "output_type": "execute_result",
          "data": {
            "text/plain": [
              "((64, 224, 224, 3), (64, 3))"
            ]
          },
          "metadata": {},
          "execution_count": 10
        }
      ]
    },
    {
      "cell_type": "code",
      "source": [
        "print (train_generator.class_indices)\n",
        "\n",
        "labels = '\\n'.join(sorted(train_generator.class_indices.keys()))\n",
        "\n",
        "with open('eyebag_labels.txt', 'w') as f:\n",
        "  f.write(labels)"
      ],
      "metadata": {
        "colab": {
          "base_uri": "https://localhost:8080/"
        },
        "id": "Pn_3avNBwqkN",
        "outputId": "f7f947b9-cc12-43fe-8118-bedd453cb946"
      },
      "execution_count": null,
      "outputs": [
        {
          "output_type": "stream",
          "name": "stdout",
          "text": [
            "{'BigEyebag': 0, 'NoEyebag': 1, 'NormalEyebag': 2}\n"
          ]
        }
      ]
    },
    {
      "cell_type": "code",
      "source": [
        "!cat eyebag_labels.txt"
      ],
      "metadata": {
        "colab": {
          "base_uri": "https://localhost:8080/"
        },
        "id": "9iaLmnZtw7uM",
        "outputId": "320eb87d-b9a6-4d90-f24e-a08ade7c2ec0"
      },
      "execution_count": null,
      "outputs": [
        {
          "output_type": "stream",
          "name": "stdout",
          "text": [
            "BigEyebag\n",
            "NoEyebag\n",
            "NormalEyebag"
          ]
        }
      ]
    },
    {
      "cell_type": "code",
      "source": [
        "IMG_SHAPE = (224, 224, 3)\n",
        "\n",
        "# Create the base model from the pre-trained MobileNet V2\n",
        "base_model = tf.keras.applications.MobileNetV2(input_shape=IMG_SHAPE,\n",
        "                                              include_top=False, \n",
        "                                              weights='imagenet')\n",
        "base_model.trainable = False"
      ],
      "metadata": {
        "id": "0R5nwK2xw_Sl",
        "colab": {
          "base_uri": "https://localhost:8080/"
        },
        "outputId": "cc0e4411-1d02-46c1-b72a-166fe9d3b840"
      },
      "execution_count": null,
      "outputs": [
        {
          "output_type": "stream",
          "name": "stdout",
          "text": [
            "Downloading data from https://storage.googleapis.com/tensorflow/keras-applications/mobilenet_v2/mobilenet_v2_weights_tf_dim_ordering_tf_kernels_1.0_224_no_top.h5\n",
            "9412608/9406464 [==============================] - 0s 0us/step\n",
            "9420800/9406464 [==============================] - 0s 0us/step\n"
          ]
        }
      ]
    },
    {
      "cell_type": "code",
      "source": [
        "model = tf.keras.Sequential([\n",
        "  base_model,\n",
        "  tf.keras.layers.Conv2D(filters=32, kernel_size=3, activation='relu'),\n",
        "  tf.keras.layers.Conv2D(filters=64, kernel_size=3, activation='relu'),\n",
        "  tf.keras.layers.Dropout(0.1),\n",
        "  tf.keras.layers.GlobalAveragePooling2D(),\n",
        "  tf.keras.layers.Dense(units=3, activation='softmax')\n",
        "])"
      ],
      "metadata": {
        "id": "Z1mD0LIfxFW-"
      },
      "execution_count": null,
      "outputs": []
    },
    {
      "cell_type": "code",
      "source": [
        "model.compile(optimizer='adam', \n",
        "              loss='categorical_crossentropy', \n",
        "              metrics=['accuracy'])"
      ],
      "metadata": {
        "id": "bF_PF9gWxLbN"
      },
      "execution_count": null,
      "outputs": []
    },
    {
      "cell_type": "code",
      "source": [
        "model.summary()"
      ],
      "metadata": {
        "colab": {
          "base_uri": "https://localhost:8080/"
        },
        "id": "iZ7WIIoRxOgN",
        "outputId": "f9804cc8-78f2-4414-c104-7518bb2be0ba"
      },
      "execution_count": null,
      "outputs": [
        {
          "output_type": "stream",
          "name": "stdout",
          "text": [
            "Model: \"sequential_4\"\n",
            "_________________________________________________________________\n",
            " Layer (type)                Output Shape              Param #   \n",
            "=================================================================\n",
            " mobilenetv2_1.00_224 (Funct  (None, 7, 7, 1280)       2257984   \n",
            " ional)                                                          \n",
            "                                                                 \n",
            " conv2d_5 (Conv2D)           (None, 5, 5, 32)          368672    \n",
            "                                                                 \n",
            " conv2d_6 (Conv2D)           (None, 3, 3, 64)          18496     \n",
            "                                                                 \n",
            " dropout_3 (Dropout)         (None, 3, 3, 64)          0         \n",
            "                                                                 \n",
            " global_average_pooling2d_3   (None, 64)               0         \n",
            " (GlobalAveragePooling2D)                                        \n",
            "                                                                 \n",
            " dense_3 (Dense)             (None, 3)                 195       \n",
            "                                                                 \n",
            "=================================================================\n",
            "Total params: 2,645,347\n",
            "Trainable params: 387,363\n",
            "Non-trainable params: 2,257,984\n",
            "_________________________________________________________________\n"
          ]
        }
      ]
    },
    {
      "cell_type": "code",
      "source": [
        "history = model.fit(train_generator,\n",
        "                    \n",
        "                    epochs=100,\n",
        "                    validation_data=validation_generator)\n",
        "                    "
      ],
      "metadata": {
        "colab": {
          "base_uri": "https://localhost:8080/"
        },
        "id": "aq4hrCW4xRlG",
        "outputId": "2be29829-5d32-4349-805c-bd9f6269d24d"
      },
      "execution_count": null,
      "outputs": [
        {
          "output_type": "stream",
          "name": "stdout",
          "text": [
            "Epoch 1/50\n",
            "13/13 [==============================] - 37s 3s/step - loss: 0.5897 - accuracy: 0.7238 - val_loss: 1.3541 - val_accuracy: 0.5303\n",
            "Epoch 2/50\n",
            "13/13 [==============================] - 37s 3s/step - loss: 0.6221 - accuracy: 0.7178 - val_loss: 1.7415 - val_accuracy: 0.5152\n",
            "Epoch 3/50\n",
            "13/13 [==============================] - 37s 3s/step - loss: 0.6113 - accuracy: 0.7336 - val_loss: 1.3042 - val_accuracy: 0.5455\n",
            "Epoch 4/50\n",
            "13/13 [==============================] - 38s 3s/step - loss: 0.6286 - accuracy: 0.7141 - val_loss: 1.2964 - val_accuracy: 0.4646\n",
            "Epoch 5/50\n",
            "13/13 [==============================] - 36s 3s/step - loss: 0.6329 - accuracy: 0.6995 - val_loss: 1.2408 - val_accuracy: 0.5051\n",
            "Epoch 6/50\n",
            "13/13 [==============================] - 37s 3s/step - loss: 0.6330 - accuracy: 0.6983 - val_loss: 1.2656 - val_accuracy: 0.5354\n",
            "Epoch 7/50\n",
            "13/13 [==============================] - 37s 3s/step - loss: 0.6185 - accuracy: 0.7080 - val_loss: 1.5101 - val_accuracy: 0.5101\n",
            "Epoch 8/50\n",
            "13/13 [==============================] - 37s 3s/step - loss: 0.6072 - accuracy: 0.7384 - val_loss: 1.4766 - val_accuracy: 0.4949\n",
            "Epoch 9/50\n",
            "13/13 [==============================] - 37s 3s/step - loss: 0.6341 - accuracy: 0.6983 - val_loss: 1.3164 - val_accuracy: 0.4798\n",
            "Epoch 10/50\n",
            "13/13 [==============================] - 37s 3s/step - loss: 0.5967 - accuracy: 0.7287 - val_loss: 1.4888 - val_accuracy: 0.5101\n",
            "Epoch 11/50\n",
            "13/13 [==============================] - 37s 3s/step - loss: 0.6012 - accuracy: 0.7129 - val_loss: 1.4370 - val_accuracy: 0.5354\n",
            "Epoch 12/50\n",
            "13/13 [==============================] - 38s 3s/step - loss: 0.5946 - accuracy: 0.7311 - val_loss: 1.6002 - val_accuracy: 0.4899\n",
            "Epoch 13/50\n",
            "13/13 [==============================] - 37s 3s/step - loss: 0.5880 - accuracy: 0.7445 - val_loss: 1.3395 - val_accuracy: 0.5505\n",
            "Epoch 14/50\n",
            "13/13 [==============================] - 38s 3s/step - loss: 0.5935 - accuracy: 0.7165 - val_loss: 1.5834 - val_accuracy: 0.5000\n",
            "Epoch 15/50\n",
            "13/13 [==============================] - 37s 3s/step - loss: 0.5491 - accuracy: 0.7749 - val_loss: 1.5115 - val_accuracy: 0.5101\n",
            "Epoch 16/50\n",
            "13/13 [==============================] - 37s 3s/step - loss: 0.5720 - accuracy: 0.7457 - val_loss: 1.3310 - val_accuracy: 0.5051\n",
            "Epoch 17/50\n",
            "13/13 [==============================] - 37s 3s/step - loss: 0.5961 - accuracy: 0.7348 - val_loss: 1.5795 - val_accuracy: 0.4899\n",
            "Epoch 18/50\n",
            "13/13 [==============================] - 37s 3s/step - loss: 0.6064 - accuracy: 0.7226 - val_loss: 1.4099 - val_accuracy: 0.4747\n",
            "Epoch 19/50\n",
            "13/13 [==============================] - 39s 3s/step - loss: 0.5365 - accuracy: 0.7847 - val_loss: 1.5434 - val_accuracy: 0.4848\n",
            "Epoch 20/50\n",
            "13/13 [==============================] - 37s 3s/step - loss: 0.5476 - accuracy: 0.7543 - val_loss: 1.6059 - val_accuracy: 0.5101\n",
            "Epoch 21/50\n",
            "13/13 [==============================] - 36s 3s/step - loss: 0.5825 - accuracy: 0.7251 - val_loss: 1.5417 - val_accuracy: 0.5657\n",
            "Epoch 22/50\n",
            "13/13 [==============================] - 37s 3s/step - loss: 0.5710 - accuracy: 0.7555 - val_loss: 1.4052 - val_accuracy: 0.5455\n",
            "Epoch 23/50\n",
            "13/13 [==============================] - 37s 3s/step - loss: 0.5444 - accuracy: 0.7640 - val_loss: 1.6045 - val_accuracy: 0.4747\n",
            "Epoch 24/50\n",
            "13/13 [==============================] - 37s 3s/step - loss: 0.5822 - accuracy: 0.7263 - val_loss: 1.4306 - val_accuracy: 0.5707\n",
            "Epoch 25/50\n",
            "13/13 [==============================] - 37s 3s/step - loss: 0.5427 - accuracy: 0.7652 - val_loss: 1.4864 - val_accuracy: 0.5303\n",
            "Epoch 26/50\n",
            "13/13 [==============================] - 37s 3s/step - loss: 0.5504 - accuracy: 0.7591 - val_loss: 1.6675 - val_accuracy: 0.5152\n",
            "Epoch 27/50\n",
            "13/13 [==============================] - 37s 3s/step - loss: 0.5597 - accuracy: 0.7567 - val_loss: 1.5730 - val_accuracy: 0.4848\n",
            "Epoch 28/50\n",
            "13/13 [==============================] - 36s 3s/step - loss: 0.5107 - accuracy: 0.7847 - val_loss: 1.4997 - val_accuracy: 0.5455\n",
            "Epoch 29/50\n",
            "13/13 [==============================] - 37s 3s/step - loss: 0.5362 - accuracy: 0.7591 - val_loss: 1.5412 - val_accuracy: 0.4899\n",
            "Epoch 30/50\n",
            "13/13 [==============================] - 37s 3s/step - loss: 0.5367 - accuracy: 0.7616 - val_loss: 1.5875 - val_accuracy: 0.5354\n",
            "Epoch 31/50\n",
            "13/13 [==============================] - 37s 3s/step - loss: 0.5318 - accuracy: 0.7457 - val_loss: 1.7670 - val_accuracy: 0.5303\n",
            "Epoch 32/50\n",
            "13/13 [==============================] - 36s 3s/step - loss: 0.5734 - accuracy: 0.7616 - val_loss: 1.6854 - val_accuracy: 0.4697\n",
            "Epoch 33/50\n",
            "13/13 [==============================] - 37s 3s/step - loss: 0.5684 - accuracy: 0.7713 - val_loss: 1.4205 - val_accuracy: 0.5202\n",
            "Epoch 34/50\n",
            "13/13 [==============================] - 37s 3s/step - loss: 0.5381 - accuracy: 0.7689 - val_loss: 1.7994 - val_accuracy: 0.5707\n",
            "Epoch 35/50\n",
            "13/13 [==============================] - 36s 3s/step - loss: 0.4968 - accuracy: 0.7859 - val_loss: 1.6398 - val_accuracy: 0.5253\n",
            "Epoch 36/50\n",
            "13/13 [==============================] - 36s 3s/step - loss: 0.5087 - accuracy: 0.7847 - val_loss: 1.4770 - val_accuracy: 0.5404\n",
            "Epoch 37/50\n",
            "13/13 [==============================] - 37s 3s/step - loss: 0.5179 - accuracy: 0.7676 - val_loss: 1.6106 - val_accuracy: 0.5253\n",
            "Epoch 38/50\n",
            "13/13 [==============================] - 37s 3s/step - loss: 0.5522 - accuracy: 0.7445 - val_loss: 1.4054 - val_accuracy: 0.5455\n",
            "Epoch 39/50\n",
            "13/13 [==============================] - 38s 3s/step - loss: 0.5181 - accuracy: 0.7956 - val_loss: 1.8993 - val_accuracy: 0.5000\n",
            "Epoch 40/50\n",
            "13/13 [==============================] - 37s 3s/step - loss: 0.5098 - accuracy: 0.7810 - val_loss: 1.8833 - val_accuracy: 0.5000\n",
            "Epoch 41/50\n",
            "13/13 [==============================] - 36s 3s/step - loss: 0.5497 - accuracy: 0.7409 - val_loss: 1.6919 - val_accuracy: 0.5051\n",
            "Epoch 42/50\n",
            "13/13 [==============================] - 37s 3s/step - loss: 0.5242 - accuracy: 0.7725 - val_loss: 1.9911 - val_accuracy: 0.4697\n",
            "Epoch 43/50\n",
            "13/13 [==============================] - 37s 3s/step - loss: 0.5030 - accuracy: 0.7689 - val_loss: 1.7313 - val_accuracy: 0.4949\n",
            "Epoch 44/50\n",
            "13/13 [==============================] - 36s 3s/step - loss: 0.4973 - accuracy: 0.7737 - val_loss: 1.9279 - val_accuracy: 0.4848\n",
            "Epoch 45/50\n",
            "13/13 [==============================] - 37s 3s/step - loss: 0.5138 - accuracy: 0.7859 - val_loss: 1.6652 - val_accuracy: 0.4798\n",
            "Epoch 46/50\n",
            "13/13 [==============================] - 38s 3s/step - loss: 0.5383 - accuracy: 0.7628 - val_loss: 1.8544 - val_accuracy: 0.4848\n",
            "Epoch 47/50\n",
            "13/13 [==============================] - 37s 3s/step - loss: 0.5166 - accuracy: 0.7579 - val_loss: 1.6881 - val_accuracy: 0.5101\n",
            "Epoch 48/50\n",
            "13/13 [==============================] - 37s 3s/step - loss: 0.5108 - accuracy: 0.7762 - val_loss: 1.8770 - val_accuracy: 0.5000\n",
            "Epoch 49/50\n",
            "13/13 [==============================] - 37s 3s/step - loss: 0.5207 - accuracy: 0.7762 - val_loss: 1.6943 - val_accuracy: 0.4596\n",
            "Epoch 50/50\n",
            "13/13 [==============================] - 37s 3s/step - loss: 0.5315 - accuracy: 0.7616 - val_loss: 1.7671 - val_accuracy: 0.5101\n"
          ]
        }
      ]
    },
    {
      "cell_type": "code",
      "source": [
        "#-----------------------------------------------------------\n",
        "# Retrieve a list of list results on training and test data\n",
        "# sets for each training epoch\n",
        "#-----------------------------------------------------------\n",
        "acc=history.history['accuracy']\n",
        "val_acc=history.history['val_accuracy']\n",
        "loss=history.history['loss']\n",
        "val_loss=history.history['val_loss']\n",
        "\n",
        "epochs=range(len(acc)) # Get number of epochs\n",
        "\n",
        "#------------------------------------------------\n",
        "# Plot training and validation accuracy per epoch\n",
        "#------------------------------------------------\n",
        "plt.plot(epochs, acc, 'r', \"Training Accuracy\")\n",
        "plt.plot(epochs, val_acc, 'b', \"Validation Accuracy\")\n",
        "plt.title('Training and validation accuracy')\n",
        "plt.show()\n",
        "print(\"\")\n",
        "\n",
        "#------------------------------------------------\n",
        "# Plot training and validation loss per epoch\n",
        "#------------------------------------------------\n",
        "plt.plot(epochs, loss, 'r', \"Training Loss\")\n",
        "plt.plot(epochs, val_loss, 'b', \"Validation Loss\")\n",
        "plt.show()"
      ],
      "metadata": {
        "colab": {
          "base_uri": "https://localhost:8080/",
          "height": 546
        },
        "id": "Z9BiaDH71ytD",
        "outputId": "6f76ad29-dfd8-4566-9a47-48c0792c8401"
      },
      "execution_count": null,
      "outputs": [
        {
          "output_type": "display_data",
          "data": {
            "text/plain": [
              "<Figure size 432x288 with 1 Axes>"
            ],
            "image/png": "[encoded data removed]"
          },
          "metadata": {
            "needs_background": "light"
          }
        },
        {
          "output_type": "stream",
          "name": "stdout",
          "text": [
            "\n"
          ]
        },
        {
          "output_type": "display_data",
          "data": {
            "text/plain": [
              "<Figure size 432x288 with 1 Axes>"
            ],
            "image/png": "[encoded data removed]"
          },
          "metadata": {
            "needs_background": "light"
          }
        }
      ]
    },
    {
      "cell_type": "code",
      "source": [
        "print(\"Number of layers in the base model: \", len(base_model.layers))"
      ],
      "metadata": {
        "colab": {
          "base_uri": "https://localhost:8080/"
        },
        "id": "0shXcaO613TL",
        "outputId": "23c06c5a-460d-425d-a890-974c5db32171"
      },
      "execution_count": null,
      "outputs": [
        {
          "output_type": "stream",
          "name": "stdout",
          "text": [
            "Number of layers in the base model:  154\n"
          ]
        }
      ]
    },
    {
      "cell_type": "code",
      "source": [
        "base_model.trainable = True\n",
        "fine_tune_at = 100\n",
        "\n",
        "# Freeze all the layers before the `fine_tune_at` layer\n",
        "for layer in base_model.layers[:fine_tune_at]:\n",
        "  layer.trainable =  False"
      ],
      "metadata": {
        "id": "P5jb5mHF17BR"
      },
      "execution_count": null,
      "outputs": []
    },
    {
      "cell_type": "code",
      "source": [
        "model.compile(optimizer=tf.keras.optimizers.Adam(1e-5),\n",
        "              loss='categorical_crossentropy',\n",
        "              metrics=['accuracy'])"
      ],
      "metadata": {
        "id": "0H1LIGwN19ix"
      },
      "execution_count": null,
      "outputs": []
    },
    {
      "cell_type": "code",
      "source": [
        "model.summary()"
      ],
      "metadata": {
        "colab": {
          "base_uri": "https://localhost:8080/"
        },
        "id": "arl0W8u82BHo",
        "outputId": "25ebb9a9-1d87-4c0e-cebe-12acc6e639fa"
      },
      "execution_count": null,
      "outputs": [
        {
          "output_type": "stream",
          "name": "stdout",
          "text": [
            "Model: \"sequential_4\"\n",
            "_________________________________________________________________\n",
            " Layer (type)                Output Shape              Param #   \n",
            "=================================================================\n",
            " mobilenetv2_1.00_224 (Funct  (None, 7, 7, 1280)       2257984   \n",
            " ional)                                                          \n",
            "                                                                 \n",
            " conv2d_5 (Conv2D)           (None, 5, 5, 32)          368672    \n",
            "                                                                 \n",
            " conv2d_6 (Conv2D)           (None, 3, 3, 64)          18496     \n",
            "                                                                 \n",
            " dropout_3 (Dropout)         (None, 3, 3, 64)          0         \n",
            "                                                                 \n",
            " global_average_pooling2d_3   (None, 64)               0         \n",
            " (GlobalAveragePooling2D)                                        \n",
            "                                                                 \n",
            " dense_3 (Dense)             (None, 3)                 195       \n",
            "                                                                 \n",
            "=================================================================\n",
            "Total params: 2,645,347\n",
            "Trainable params: 2,248,803\n",
            "Non-trainable params: 396,544\n",
            "_________________________________________________________________\n"
          ]
        }
      ]
    },
    {
      "cell_type": "code",
      "source": [
        "print('Number of trainable weights = {}'.format(len(model.trainable_weights)))"
      ],
      "metadata": {
        "colab": {
          "base_uri": "https://localhost:8080/"
        },
        "id": "4a_Ke40w2DVH",
        "outputId": "5c9a9427-4336-4710-d93f-67897c317b51"
      },
      "execution_count": null,
      "outputs": [
        {
          "output_type": "stream",
          "name": "stdout",
          "text": [
            "Number of trainable weights = 58\n"
          ]
        }
      ]
    },
    {
      "cell_type": "code",
      "source": [
        "history_fine = model.fit(train_generator,\n",
        "                         steps_per_epoch=len(train_generator), \n",
        "                         epochs=10,\n",
        "                         validation_data=validation_generator,\n",
        "                         validation_steps=len(validation_generator))"
      ],
      "metadata": {
        "colab": {
          "base_uri": "https://localhost:8080/"
        },
        "id": "gDXEDOfi2FQq",
        "outputId": "65845ef0-17f9-4ff4-c024-a5d8c62ccfd8"
      },
      "execution_count": null,
      "outputs": [
        {
          "output_type": "stream",
          "name": "stdout",
          "text": [
            "Epoch 1/10\n",
            "13/13 [==============================] - 64s 5s/step - loss: 1.6067 - accuracy: 0.5000 - val_loss: 1.7966 - val_accuracy: 0.5101\n",
            "Epoch 2/10\n",
            "13/13 [==============================] - 58s 4s/step - loss: 1.2710 - accuracy: 0.5450 - val_loss: 1.7757 - val_accuracy: 0.5152\n",
            "Epoch 3/10\n",
            "13/13 [==============================] - 58s 4s/step - loss: 1.1896 - accuracy: 0.5316 - val_loss: 1.7541 - val_accuracy: 0.5101\n",
            "Epoch 4/10\n",
            "13/13 [==============================] - 60s 5s/step - loss: 1.1177 - accuracy: 0.5523 - val_loss: 1.7425 - val_accuracy: 0.5202\n",
            "Epoch 5/10\n",
            "13/13 [==============================] - 59s 4s/step - loss: 1.0773 - accuracy: 0.5645 - val_loss: 1.7660 - val_accuracy: 0.5202\n",
            "Epoch 6/10\n",
            "13/13 [==============================] - 59s 4s/step - loss: 1.0549 - accuracy: 0.5572 - val_loss: 1.7473 - val_accuracy: 0.5152\n",
            "Epoch 7/10\n",
            "13/13 [==============================] - 59s 4s/step - loss: 0.9822 - accuracy: 0.5584 - val_loss: 1.7276 - val_accuracy: 0.5303\n",
            "Epoch 8/10\n",
            "13/13 [==============================] - 61s 5s/step - loss: 0.9620 - accuracy: 0.5669 - val_loss: 1.7073 - val_accuracy: 0.5253\n",
            "Epoch 9/10\n",
            "13/13 [==============================] - 59s 4s/step - loss: 0.9061 - accuracy: 0.5754 - val_loss: 1.7241 - val_accuracy: 0.5202\n",
            "Epoch 10/10\n",
            "13/13 [==============================] - 60s 5s/step - loss: 0.9284 - accuracy: 0.5912 - val_loss: 1.7737 - val_accuracy: 0.5202\n"
          ]
        }
      ]
    },
    {
      "cell_type": "code",
      "source": [
        "acc = history_fine.history['accuracy']\n",
        "val_acc = history_fine.history['val_accuracy']\n",
        "\n",
        "loss = history_fine.history['loss']\n",
        "val_loss = history_fine.history['val_loss']\n",
        "\n",
        "plt.figure(figsize=(8, 8))\n",
        "plt.subplot(2, 1, 1)\n",
        "plt.plot(acc, label='Training Accuracy')\n",
        "plt.plot(val_acc, label='Validation Accuracy')\n",
        "plt.legend(loc='lower right')\n",
        "plt.ylabel('Accuracy')\n",
        "plt.ylim([min(plt.ylim()),1])\n",
        "plt.title('Training and Validation Accuracy')\n",
        "\n",
        "plt.subplot(2, 1, 2)\n",
        "plt.plot(loss, label='Training Loss')\n",
        "plt.plot(val_loss, label='Validation Loss')\n",
        "plt.legend(loc='upper right')\n",
        "plt.ylabel('Cross Entropy')\n",
        "plt.ylim([0,1.0])\n",
        "plt.title('Training and Validation Loss')\n",
        "plt.xlabel('epoch')\n",
        "plt.show()"
      ],
      "metadata": {
        "id": "eNZ8zjPu2H6F"
      },
      "execution_count": null,
      "outputs": []
    },
    {
      "cell_type": "code",
      "source": [
        "model.save(\"/content/gdrive/MyDrive/CAPSTONE II/eyebag_model_v1.h5\")"
      ],
      "metadata": {
        "id": "4OO1pooocVIe"
      },
      "execution_count": null,
      "outputs": []
    }
  ]
}